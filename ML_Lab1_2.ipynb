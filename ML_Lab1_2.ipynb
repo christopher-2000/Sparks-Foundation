{
  "nbformat": 4,
  "nbformat_minor": 0,
  "metadata": {
    "colab": {
      "name": "ML_Lab1.ipynb",
      "provenance": [],
      "collapsed_sections": [],
      "toc_visible": true,
      "authorship_tag": "ABX9TyPrdFYXjrsjRN4mZ1M2rAvj",
      "include_colab_link": true
    },
    "kernelspec": {
      "name": "python3",
      "display_name": "Python 3"
    }
  },
  "cells": [
    {
      "cell_type": "markdown",
      "metadata": {
        "id": "view-in-github",
        "colab_type": "text"
      },
      "source": [
        "<a href=\"https://colab.research.google.com/github/christopher-2000/Sparks-Foundation/blob/main/ML_Lab1_2.ipynb\" target=\"_parent\"><img src=\"https://colab.research.google.com/assets/colab-badge.svg\" alt=\"Open In Colab\"/></a>"
      ]
    },
    {
      "cell_type": "markdown",
      "metadata": {
        "id": "eUeorIGLOPt6"
      },
      "source": [
        "### ML Lab Assignment 1\r\n",
        "##### M G Christopher\r\n",
        "##### 2018BCS0030"
      ]
    },
    {
      "cell_type": "markdown",
      "metadata": {
        "id": "EnAY9wqDOhtx"
      },
      "source": [
        "#### 1. Importing Libraries"
      ]
    },
    {
      "cell_type": "code",
      "metadata": {
        "id": "kXCI8JLUsJ08",
        "colab": {
          "base_uri": "https://localhost:8080/"
        },
        "outputId": "e87bcac1-1d5f-42ba-854e-816e892af8d4"
      },
      "source": [
        "import csv\r\n",
        "import numpy as np\r\n",
        "import pandas as pd\r\n",
        "from pandas import read_csv\r\n",
        "import sklearn as sc\r\n",
        "from sklearn import metrics\r\n",
        "import matplotlib.pyplot as plt\r\n",
        "\r\n",
        "print(\"Libraries imported\")\r\n",
        "\r\n"
      ],
      "execution_count": 53,
      "outputs": [
        {
          "output_type": "stream",
          "text": [
            "Libraries imported\n"
          ],
          "name": "stdout"
        }
      ]
    },
    {
      "cell_type": "markdown",
      "metadata": {
        "id": "igxsGCGAW-3h"
      },
      "source": [
        "#### 2. Loading Data"
      ]
    },
    {
      "cell_type": "code",
      "metadata": {
        "colab": {
          "base_uri": "https://localhost:8080/"
        },
        "id": "C5N196U0OL__",
        "outputId": "36eca0cb-5446-4631-a20d-8135dba11ee6"
      },
      "source": [
        "path = r\"/content/usedcars.csv\"\r\n",
        "data = read_csv(path)\r\n",
        "print(data.shape)\r\n",
        "print(data[:5])\r\n",
        "\r\n",
        "\r\n",
        "\r\n"
      ],
      "execution_count": 15,
      "outputs": [
        {
          "output_type": "stream",
          "text": [
            "(150, 6)\n",
            "   year model  price  mileage   color transmission\n",
            "0  2011   SEL  21992     7413  Yellow         AUTO\n",
            "1  2011   SEL  20995    10926    Gray         AUTO\n",
            "2  2011   SEL  19995     7351  Silver         AUTO\n",
            "3  2011   SEL  17809    11613    Gray         AUTO\n",
            "4  2012    SE  17500     8367   White         AUTO\n"
          ],
          "name": "stdout"
        }
      ]
    },
    {
      "cell_type": "markdown",
      "metadata": {
        "id": "-Z8dkE3-oScR"
      },
      "source": [
        "#### 3. Data Preprocessing and visualization"
      ]
    },
    {
      "cell_type": "code",
      "metadata": {
        "id": "zABQnGNBPqwA",
        "colab": {
          "base_uri": "https://localhost:8080/",
          "height": 279
        },
        "outputId": "1303f444-21f5-4a57-e2c5-bdbd6fa9e4d5"
      },
      "source": [
        "datarray = []\r\n",
        "price = []\r\n",
        "mileage = []\r\n",
        "for i in range(150):\r\n",
        "    datarray.append([data['mileage'][i],data['price'][i]])\r\n",
        "    price.append(data['price'][i])\r\n",
        "    mileage.append(data['mileage'][i])\r\n",
        "\r\n",
        "np.random.shuffle(datarray)\r\n",
        "train = datarray[:120]\r\n",
        "test = datarray[120:]\r\n",
        "\r\n",
        "\r\n",
        "plt.scatter(mileage,price,color = 'orange',label='mileage vs price')\r\n",
        "plt.xlabel('Mileage',color='blue')\r\n",
        "plt.ylabel('Price',color='red')\r\n",
        "plt.grid()\r\n",
        "plt.legend()\r\n",
        "plt.show()"
      ],
      "execution_count": 34,
      "outputs": [
        {
          "output_type": "display_data",
          "data": {
            "image/png": "[encoded data removed]",
            "text/plain": [
              "<Figure size 432x288 with 1 Axes>"
            ]
          },
          "metadata": {
            "tags": [],
            "needs_background": "light"
          }
        }
      ]
    },
    {
      "cell_type": "markdown",
      "metadata": {
        "id": "Bt4DA64PnR9B"
      },
      "source": [
        "#### 4. Finding Coefficients of Linear regression line "
      ]
    },
    {
      "cell_type": "code",
      "metadata": {
        "id": "4FpZxaiBlCTF",
        "colab": {
          "base_uri": "https://localhost:8080/"
        },
        "outputId": "fd96954b-f8a6-48ff-e8ee-df048265773e"
      },
      "source": [
        "def mean(values):\r\n",
        "\treturn sum(values) / float(len(values))\r\n",
        " \r\n",
        "# Calculate covariance between x and y\r\n",
        "def covariance(x, mean_x, y, mean_y):\r\n",
        "\tcovar = 0.0\r\n",
        "\tfor i in range(len(x)):\r\n",
        "\t\tcovar += (x[i] - mean_x) * (y[i] - mean_y)\r\n",
        "\treturn covar\r\n",
        " \r\n",
        "# Calculate the variance of a list of numbers\r\n",
        "def variance(values, mean):\r\n",
        "\treturn sum([(x-mean)**2 for x in values])\r\n",
        " \r\n",
        "# Calculate coefficients\r\n",
        "def coefficients(dataset):\r\n",
        "\tx = [row[0] for row in dataset]\r\n",
        "\ty = [row[1] for row in dataset]\r\n",
        "\tx_mean, y_mean = mean(x), mean(y)\r\n",
        "\tb1 = covariance(x, x_mean, y, y_mean) / variance(x, x_mean)\r\n",
        "\tb0 = y_mean - b1 * x_mean\r\n",
        "\treturn [b0, b1]\r\n",
        "\r\n",
        "# Y = mX + C\r\n",
        "c,m = coefficients(train)\r\n",
        "print(\"The Equation of the line : Y = {} * X + {} \".format(m,c))"
      ],
      "execution_count": 45,
      "outputs": [
        {
          "output_type": "stream",
          "text": [
            "The Equation of the line : Y = -0.0949270250995719 * X + 17229.698165737314 \n"
          ],
          "name": "stdout"
        }
      ]
    },
    {
      "cell_type": "markdown",
      "metadata": {
        "id": "200y31r509yb"
      },
      "source": [
        "#### 5. Linear Regression visualization"
      ]
    },
    {
      "cell_type": "code",
      "metadata": {
        "colab": {
          "base_uri": "https://localhost:8080/",
          "height": 279
        },
        "id": "ErsEkL4EvFDc",
        "outputId": "dc92a728-3d3f-4149-b2ca-f32e4409f137"
      },
      "source": [
        "x =np.array(mileage)\r\n",
        "y = -0.0949270250995719 * x + 17229.698165737314 \r\n",
        "plt.scatter(mileage,price,color = 'orange',label='mileage vs price')\r\n",
        "plt.plot(x,y, color='blue', label='prediction line')\r\n",
        "plt.xlabel('Mileage',color='blue')\r\n",
        "plt.ylabel('Price',color='red')\r\n",
        "plt.grid()\r\n",
        "plt.legend()\r\n",
        "plt.show()"
      ],
      "execution_count": 46,
      "outputs": [
        {
          "output_type": "display_data",
          "data": {
            "image/png": "[encoded data removed]",
            "text/plain": [
              "<Figure size 432x288 with 1 Axes>"
            ]
          },
          "metadata": {
            "tags": [],
            "needs_background": "light"
          }
        }
      ]
    },
    {
      "cell_type": "markdown",
      "metadata": {
        "id": "Y8epc5rb17CD"
      },
      "source": [
        "#### 6. Evaluating our model using test dataset"
      ]
    },
    {
      "cell_type": "code",
      "metadata": {
        "colab": {
          "base_uri": "https://localhost:8080/",
          "height": 343
        },
        "id": "SGqICglUydV9",
        "outputId": "8ca11954-690b-4774-8fdc-69598371d3c8"
      },
      "source": [
        "y_test = []\r\n",
        "y_pred = []\r\n",
        "for i in test:\r\n",
        "    y_test.append(i[1])\r\n",
        "    yval = -0.0949270250995719 * i[0] + 17229.698165737314\r\n",
        "    y_pred.append(yval)\r\n",
        "df = pd.DataFrame({'Actual': y_test, 'Predicted': y_pred})  \r\n",
        "df[:10]\r\n"
      ],
      "execution_count": 50,
      "outputs": [
        {
          "output_type": "execute_result",
          "data": {
            "text/html": [
              "<div>\n",
              "<style scoped>\n",
              "    .dataframe tbody tr th:only-of-type {\n",
              "        vertical-align: middle;\n",
              "    }\n",
              "\n",
              "    .dataframe tbody tr th {\n",
              "        vertical-align: top;\n",
              "    }\n",
              "\n",
              "    .dataframe thead th {\n",
              "        text-align: right;\n",
              "    }\n",
              "</style>\n",
              "<table border=\"1\" class=\"dataframe\">\n",
              "  <thead>\n",
              "    <tr style=\"text-align: right;\">\n",
              "      <th></th>\n",
              "      <th>Actual</th>\n",
              "      <th>Predicted</th>\n",
              "    </tr>\n",
              "  </thead>\n",
              "  <tbody>\n",
              "    <tr>\n",
              "      <th>0</th>\n",
              "      <td>14299</td>\n",
              "      <td>13769.892882</td>\n",
              "    </tr>\n",
              "    <tr>\n",
              "      <th>1</th>\n",
              "      <td>13950</td>\n",
              "      <td>16332.637779</td>\n",
              "    </tr>\n",
              "    <tr>\n",
              "      <th>2</th>\n",
              "      <td>13384</td>\n",
              "      <td>13305.225094</td>\n",
              "    </tr>\n",
              "    <tr>\n",
              "      <th>3</th>\n",
              "      <td>14477</td>\n",
              "      <td>14429.255998</td>\n",
              "    </tr>\n",
              "    <tr>\n",
              "      <th>4</th>\n",
              "      <td>10836</td>\n",
              "      <td>13401.291243</td>\n",
              "    </tr>\n",
              "    <tr>\n",
              "      <th>5</th>\n",
              "      <td>9651</td>\n",
              "      <td>11221.197185</td>\n",
              "    </tr>\n",
              "    <tr>\n",
              "      <th>6</th>\n",
              "      <td>4899</td>\n",
              "      <td>2850.247331</td>\n",
              "    </tr>\n",
              "    <tr>\n",
              "      <th>7</th>\n",
              "      <td>14677</td>\n",
              "      <td>15127.729049</td>\n",
              "    </tr>\n",
              "    <tr>\n",
              "      <th>8</th>\n",
              "      <td>12595</td>\n",
              "      <td>13507.514585</td>\n",
              "    </tr>\n",
              "    <tr>\n",
              "      <th>9</th>\n",
              "      <td>13895</td>\n",
              "      <td>12656.683659</td>\n",
              "    </tr>\n",
              "  </tbody>\n",
              "</table>\n",
              "</div>"
            ],
            "text/plain": [
              "   Actual     Predicted\n",
              "0   14299  13769.892882\n",
              "1   13950  16332.637779\n",
              "2   13384  13305.225094\n",
              "3   14477  14429.255998\n",
              "4   10836  13401.291243\n",
              "5    9651  11221.197185\n",
              "6    4899   2850.247331\n",
              "7   14677  15127.729049\n",
              "8   12595  13507.514585\n",
              "9   13895  12656.683659"
            ]
          },
          "metadata": {
            "tags": []
          },
          "execution_count": 50
        }
      ]
    },
    {
      "cell_type": "code",
      "metadata": {
        "colab": {
          "base_uri": "https://localhost:8080/"
        },
        "id": "vWfekZBJ4Hhb",
        "outputId": "6ab32d5c-a5cb-49ae-b19f-8eeb27af6907"
      },
      "source": [
        "print('Accuracy Score:', \r\n",
        "      metrics.r2_score(y_test, y_pred))"
      ],
      "execution_count": 55,
      "outputs": [
        {
          "output_type": "stream",
          "text": [
            "Accuracy Score: 0.6517064430561749\n"
          ],
          "name": "stdout"
        }
      ]
    }
  ]
}